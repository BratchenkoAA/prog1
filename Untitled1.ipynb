{
  "nbformat": 4,
  "nbformat_minor": 0,
  "metadata": {
    "colab": {
      "provenance": [],
      "authorship_tag": "ABX9TyO4qGkm6gDHdNrQDtNkJ2R3",
      "include_colab_link": true
    },
    "kernelspec": {
      "name": "python3",
      "display_name": "Python 3"
    },
    "language_info": {
      "name": "python"
    }
  },
  "cells": [
    {
      "cell_type": "markdown",
      "metadata": {
        "id": "view-in-github",
        "colab_type": "text"
      },
      "source": [
        "<a href=\"https://colab.research.google.com/github/BratchenkoAA/prog1/blob/main/Untitled1.ipynb\" target=\"_parent\"><img src=\"https://colab.research.google.com/assets/colab-badge.svg\" alt=\"Open In Colab\"/></a>"
      ]
    },
    {
      "cell_type": "markdown",
      "source": [
        "### ** Лабораторная работа 1**\n"
      ],
      "metadata": {
        "id": "fHN0d8pk1TrT"
      }
    },
    {
      "cell_type": "code",
      "source": [
        "# Выполнил: Братченко А.А.\n",
        "# Группа: ЦИБ-241\n",
        "\n",
        "\n",
        "a = int(input(\"a=\"))\n",
        "b = int (input('b='))\n",
        "\n",
        "print(a + b)\n",
        "print(a-b)\n",
        "print (a*b)\n",
        "print (round (a/b, 2))\n",
        "print (a//b)\n",
        "print (a%b)\n",
        "print (a**b)\n",
        "\n",
        "print(a < b)\n",
        "print(a<=b)\n",
        "print (a>b)\n",
        "print (a>=b)\n",
        "print (a!=b)\n",
        "print (a==b)\n",
        "\n"
      ],
      "metadata": {
        "colab": {
          "base_uri": "https://localhost:8080/"
        },
        "id": "0yTE4tx01hn0",
        "outputId": "64487601-199a-4d4b-cbfc-f0c5f204466d"
      },
      "execution_count": null,
      "outputs": [
        {
          "output_type": "stream",
          "name": "stdout",
          "text": [
            "a=2\n",
            "b=3\n",
            "5\n",
            "-1\n",
            "6\n",
            "0.67\n",
            "0\n",
            "2\n",
            "8\n",
            "True\n",
            "True\n",
            "False\n",
            "False\n",
            "True\n",
            "False\n"
          ]
        }
      ]
    },
    {
      "cell_type": "code",
      "source": [
        "# Задание task_01_02.\n",
        "#\n",
        "# Выполнил: Братченко А.А.\n",
        "# Группа: ЦИБ-241\n",
        "\n",
        "\n",
        "x = (int(input(\"x=\")))\n",
        "y = (int(input(\"y=\")))\n",
        "z = (int(input(\"z=\")))\n",
        "\n",
        "res = ((((x**5+7)/(abs(-6)*y))*1/3)/(7-z*abs(y)))\n",
        "rounded_res= round(res, 3)\n",
        "print (rounded_res)\n",
        "\n",
        "\n",
        "# --------------\n",
        "# Пример вывода:\n",
        "#\n",
        "# x=0\n",
        "# y=1\n",
        "# z=2\n",
        "# 0.15"
      ],
      "metadata": {
        "colab": {
          "base_uri": "https://localhost:8080/"
        },
        "id": "sBm3mCYl4Ogl",
        "outputId": "2fec5df1-88d3-4876-a578-ce120dcd1ec5"
      },
      "execution_count": null,
      "outputs": [
        {
          "output_type": "stream",
          "name": "stdout",
          "text": [
            "x=0\n",
            "y=1\n",
            "z=2\n",
            "0.078\n"
          ]
        }
      ]
    },
    {
      "cell_type": "code",
      "source": [
        "# Задание task_01_03.\n",
        "#\n",
        "# Выполнил: Братченко А.А.\n",
        "# Группа: ЦИБ-241\n",
        "\n",
        "\n",
        "\n",
        "r1 = (float(input(\"r1=\")))\n",
        "r2 = (float(input(\"r2=\")))\n",
        "\n",
        "\n",
        "r = r1+r2\n",
        "round_r= round(r, 1)\n",
        "print (round_r)\n",
        "\n",
        "\n"
      ],
      "metadata": {
        "colab": {
          "base_uri": "https://localhost:8080/"
        },
        "id": "mb0eE4Yv7QJC",
        "outputId": "cbf6dc22-c109-4475-c92b-cdb2d031f947"
      },
      "execution_count": null,
      "outputs": [
        {
          "output_type": "stream",
          "name": "stdout",
          "text": [
            "r1=12.2\n",
            "r2=16.1\n",
            "28.3\n"
          ]
        }
      ]
    },
    {
      "cell_type": "code",
      "source": [
        "# Задание task_01_04.\n",
        "#\n",
        "# Выполнил: Братченко А.А.\n",
        "# Группа: ЦИБ-241\n",
        "\n",
        "\n",
        "\n",
        "\n",
        "num2 = (int(input('num2=')))\n",
        "num3 = (int(input('num3=')))\n",
        "\n",
        "# 1-я цифра числа 'num2'\n",
        "num2_1 = int(str (num2)[0]) # Удалите комментарий и допишите код\n",
        "# 2-я цифра числа 'num2'\n",
        "num2_2 = int(str (num2)[1])\n",
        "\n",
        "num2_s = (num2_1+num2_2)\n",
        "num2_p = (num2_1*num2_2)\n",
        "\n",
        "num3_1 = int(str(num3)[0])\n",
        "num3_2 = int(str(num3)[1])\n",
        "num3_3 = int(str(num3)[2])\n",
        "4\n",
        "num3_s = (num3_1+num3_2+num3_3)\n",
        "num3_p = (num3_1*num3_2*num3_3)\n",
        "\n",
        "\n",
        "\n",
        "print(num2_s,num2_p)\n",
        "print(num3_s,num3_p)\n",
        "\n"
      ],
      "metadata": {
        "colab": {
          "base_uri": "https://localhost:8080/"
        },
        "id": "nSGj4NpO8nRC",
        "outputId": "8d754a80-7154-4447-f4f0-08b4fc5341f6"
      },
      "execution_count": 1,
      "outputs": [
        {
          "output_type": "stream",
          "name": "stdout",
          "text": [
            "num2=45\n",
            "num3=456\n",
            "9 20\n",
            "15 120\n"
          ]
        }
      ]
    },
    {
      "cell_type": "code",
      "source": [
        "# Задание task_01_05.\n",
        "#\n",
        "# Выполнил:Братченко А.А.\n",
        "# Группа: ЦИБ-241\n",
        "\n",
        "\n",
        "# Количество минут\n",
        "m =  int(input('m='))# Удалите комментарий и допишите код\n",
        "\n",
        "# Количество часов, прошедших с начала суток\n",
        "h = m/60\n",
        "h1= round(h,0)# Удалите комментарий и допишите код\n",
        "# Количество минут, прошедших с момента начала последнего часа\n",
        "m2 = m-h1*60 # Удалите комментарий и допишите код\n",
        "\n",
        "\n",
        "print(int(h1))\n",
        "print (int(m2)) # Удалите комментарий и допишите код)\n",
        "# Удалите комментарий и допишите код\n",
        "\n",
        "# --------------\n",
        "# Пример вывода:\n",
        "#\n",
        "# Количество минут, прошедшее с начала суток: 123\n",
        "# Количество часов, прошедших с начала суток: 2\n",
        "# Количество минут, прошедших с момента начала последнего часа: 3"
      ],
      "metadata": {
        "colab": {
          "base_uri": "https://localhost:8080/"
        },
        "id": "02in6rUyB1iq",
        "outputId": "65f13323-09eb-4ea6-d6a3-255ecb0729fc"
      },
      "execution_count": null,
      "outputs": [
        {
          "output_type": "stream",
          "name": "stdout",
          "text": [
            "m=123\n",
            "2\n",
            "3\n"
          ]
        }
      ]
    },
    {
      "cell_type": "code",
      "source": [
        "# Задание task_01_06.\n",
        "#\n",
        "# Выполнил: Братченкл А.А.\n",
        "# Группа: ЦИБ-241\n",
        "\n",
        "\n",
        "a = int (input(\"a=\"))# Удалите комментарий и допишите код\n",
        "b = int (input(\"b=\"))# Удалите комментарий и допишите код\n",
        "m = int (input(\"m=\"))# Удалите комментарий и допишите код\n",
        "n = int (input(\"n=\"))# Удалите комментарий и допишите код\n",
        "\n",
        "ax+b=0\n",
        "\n",
        "x = # Удалите комментарий и допишите код\n",
        "\n",
        "is_ok = # Удалите комментарий и допишите код, is_ok - типа bool\n",
        "\n",
        "print(\"Попадает:\", is_ok)\n",
        "\n",
        "\n",
        "# --------------\n",
        "# Пример вывода:\n",
        "#\n",
        "# Введите a = 1\n",
        "# Введите b = 2\n",
        "# Введите m = -5\n",
        "# Введите n = 5\n",
        "# Попадает: True"
      ],
      "metadata": {
        "id": "6kpO253QEBpd"
      },
      "execution_count": null,
      "outputs": []
    },
    {
      "cell_type": "code",
      "source": [
        "\n",
        "\n",
        "# Задание task_01_07.\n",
        "#\n",
        "# Выполнил: Братченко А.А.\n",
        "# Группа: ЦИБ-241\n",
        "\n",
        "\n",
        "team = input(\"Введите название команды:\")\n",
        "\n",
        "# Удалите комментарий и допишите код)\n",
        "\n",
        "print(team,\"- чемпион!\")# Удалите комментарий и допишите код)\n",
        "\n",
        "count= len(team)\n",
        "\n",
        "for [_] in range(count):\n",
        "\n",
        "symbols= ('Символов в названии команды:')\n",
        "print (symbols, count)\n",
        "\n",
        "\n",
        "\n",
        "# --------------\n",
        "# Пример вывода:\n",
        "#\n",
        "# Введите название команды: Спартак\n",
        "# Спартак - чемпион!\n",
        "# -------\n",
        "# Символов в названии команды: 7\n",
        "# Буква \"п\" есть: True\n",
        "# Количество букв \"а\": 2\n"
      ],
      "metadata": {
        "colab": {
          "base_uri": "https://localhost:8080/",
          "height": 106
        },
        "id": "BgZWcDq-GKaZ",
        "outputId": "ae6f6df7-0936-4b03-e982-75b4c179dc78"
      },
      "execution_count": 15,
      "outputs": [
        {
          "output_type": "error",
          "ename": "IndentationError",
          "evalue": "expected an indented block after 'for' statement on line 15 (<ipython-input-15-b63554a0d275>, line 17)",
          "traceback": [
            "\u001b[0;36m  File \u001b[0;32m\"<ipython-input-15-b63554a0d275>\"\u001b[0;36m, line \u001b[0;32m17\u001b[0m\n\u001b[0;31m    symbols= ('Символов в названии команды:')\u001b[0m\n\u001b[0m    ^\u001b[0m\n\u001b[0;31mIndentationError\u001b[0m\u001b[0;31m:\u001b[0m expected an indented block after 'for' statement on line 15\n"
          ]
        }
      ]
    }
  ]
}